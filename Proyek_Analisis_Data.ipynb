{
  "cells": [
    {
      "cell_type": "markdown",
      "metadata": {
        "id": "H9wADwK78DCz"
      },
      "source": [
        "# Proyek Analisis Data: E-Commerce Public Dataset\n",
        "- **Nama:** Mukhlis Maulana Al-Fakih\n",
        "- **Email:** mukhlis.maulanaalf@gmail.com\n",
        "- **ID Dicoding:** alfakih"
      ]
    },
    {
      "cell_type": "markdown",
      "metadata": {
        "id": "eE0raob58DC0"
      },
      "source": [
        "## Menentukan Pertanyaan Bisnis"
      ]
    },
    {
      "cell_type": "markdown",
      "metadata": {
        "id": "GmQeQ5YF8DC0"
      },
      "source": [
        "- Produk atau kategori produk mana yang paling banyak terjual dan memiliki potensi peningkatan penjualan?\n",
        "- Siapa pelanggan paling bernilai dan bagaimana karakteristik pelanggan yang melakukan pembelian berulang?"
      ]
    },
    {
      "cell_type": "markdown",
      "metadata": {
        "id": "H-z4QGlO8DC1"
      },
      "source": [
        "## Import Semua Packages/Library yang Digunakan"
      ]
    },
    {
      "cell_type": "code",
      "execution_count": 2,
      "metadata": {
        "id": "FVYwaObI8DC1"
      },
      "outputs": [],
      "source": [
        "import pandas as pd\n",
        "import numpy as np\n",
        "import matplotlib.pyplot as plt\n",
        "import seaborn as sns\n",
        "from datetime import datetime"
      ]
    },
    {
      "cell_type": "markdown",
      "metadata": {
        "id": "h_Sh51Xy8DC1"
      },
      "source": [
        "## Data Wrangling"
      ]
    },
    {
      "cell_type": "markdown",
      "metadata": {
        "id": "sXU2GBYu8DC1"
      },
      "source": [
        "### Gathering Data"
      ]
    },
    {
      "cell_type": "code",
      "execution_count": 15,
      "metadata": {
        "id": "zjCBk1BI8DC1"
      },
      "outputs": [],
      "source": [
        "customer_data = pd.read_csv('data/olist_customers_dataset.csv')\n",
        "geo_data = pd.read_csv('data/olist_geolocation_dataset.csv')\n",
        "order_items_data = pd.read_csv('data/olist_order_items_dataset.csv')\n",
        "order_payments_data = pd.read_csv('data/olist_order_payments_dataset.csv')\n",
        "order_reviews_data = pd.read_csv('data/olist_order_reviews_dataset.csv')\n",
        "orders_data = pd.read_csv('data/olist_orders_dataset.csv')\n",
        "products_data = pd.read_csv('data/olist_products_dataset.csv')\n",
        "sellers_data = pd.read_csv('data/olist_sellers_dataset.csv')\n",
        "product_category_data = pd.read_csv('data/product_category_name_translation.csv')\n"
      ]
    },
    {
      "cell_type": "markdown",
      "metadata": {
        "id": "MMi6xGaDkbCi"
      },
      "source": [
        "**Insight:**\n",
        "\n",
        "<ul>\n",
        "    <li><strong>Customer-Centric Analysis:</strong> Dataset ini menyediakan informasi yang cukup untuk melakukan\n",
        "      analisis berbasis pelanggan, baik untuk melihat distribusi geografis pelanggan, frekuensi pembelian, hingga ulasan\n",
        "      produk.</li>\n",
        "    <li><strong>Product-Centric Analysis:</strong> Data produk dan pesanan dapat memberikan insight mengenai produk\n",
        "      terlaris, kategori yang paling laris, dan produk dengan potensi untuk lebih dipromosikan.</li>\n",
        "    <li><strong>Operational Analysis:</strong> Melalui data pengiriman, kita bisa menganalisis efektivitas logistik dan\n",
        "      pengaruhnya terhadap kepuasan pelanggan.</li>\n",
        "    <li><strong>Segmentasi Pelanggan:</strong> Dataset memungkinkan untuk melakukan segmentasi pelanggan berdasarkan\n",
        "      perilaku pembelian (RFM) serta mengidentifikasi pelanggan bernilai tinggi untuk strategi pemasaran yang tepat.\n",
        "    </li>\n",
        "  </ul>\n"
      ]
    },
    {
      "cell_type": "markdown",
      "metadata": {
        "id": "FHSiqaZp8DC1"
      },
      "source": [
        "### Assessing Data"
      ]
    },
    {
      "cell_type": "markdown",
      "metadata": {},
      "source": [
        "**Membuat fungsi untuk mempermudah proses assessing data**"
      ]
    },
    {
      "cell_type": "code",
      "execution_count": 23,
      "metadata": {},
      "outputs": [],
      "source": [
        "def assess_data(path, date_columns=None):\n",
        "    # 1. Memuat dataset dari path yang diberikan\n",
        "    try:\n",
        "        dataset = pd.read_csv(path)\n",
        "        print(f\"Dataset loaded successfully from {path}\")\n",
        "    except Exception as e:\n",
        "        print(f\"Error loading dataset: {e}\")\n",
        "        return\n",
        "    \n",
        "    # 2. Menampilkan beberapa baris pertama\n",
        "    print(\"\\n--- First 5 Rows of Data ---\")\n",
        "    print(dataset.head())\n",
        "    \n",
        "    # 3. Menampilkan informasi struktur dataset\n",
        "    print(\"\\n--- Dataset Information ---\")\n",
        "    print(dataset.info())\n",
        "    \n",
        "    # 4. Memeriksa missing values\n",
        "    print(\"\\n--- Missing Values ---\")\n",
        "    missing_values = dataset.isnull().sum()\n",
        "    print(missing_values[missing_values > 0])\n",
        "    \n",
        "    # 5. Memeriksa duplikasi\n",
        "    duplicates = dataset.duplicated().sum()\n",
        "    print(f\"\\n--- Number of Duplicate Rows: {duplicates}\")\n",
        "    \n",
        "    # 6. Mengonversi kolom tanggal (jika ada)\n",
        "    if date_columns:\n",
        "        for col in date_columns:\n",
        "            if col in dataset.columns:\n",
        "                dataset[col] = pd.to_datetime(dataset[col], errors='coerce')\n",
        "                print(f\"Converted {col} to datetime format.\")\n",
        "    \n",
        "    # 7. Menampilkan deskripsi statistik untuk data numerik\n",
        "    print(\"\\n--- Statistical Summary ---\")\n",
        "    print(dataset.describe())\n",
        "    \n",
        "    # 8. Menampilkan distribusi data untuk kolom kategorikal\n",
        "    print(\"\\n--- Value Counts for Categorical Columns ---\")\n",
        "    for col in dataset.select_dtypes(include='object').columns:\n",
        "        print(f\"\\n{col} value counts:\")\n",
        "        print(dataset[col].value_counts().head(10))  # Menampilkan 10 nilai terbanyak\n",
        "    \n",
        "    return dataset"
      ]
    },
    {
      "cell_type": "code",
      "execution_count": 25,
      "metadata": {},
      "outputs": [
        {
          "name": "stdout",
          "output_type": "stream",
          "text": [
            "Dataset loaded successfully from data/olist_order_items_dataset.csv\n",
            "\n",
            "--- First 5 Rows of Data ---\n",
            "                           order_id  order_item_id  \\\n",
            "0  00010242fe8c5a6d1ba2dd792cb16214              1   \n",
            "1  00018f77f2f0320c557190d7a144bdd3              1   \n",
            "2  000229ec398224ef6ca0657da4fc703e              1   \n",
            "3  00024acbcdf0a6daa1e931b038114c75              1   \n",
            "4  00042b26cf59d7ce69dfabb4e55b4fd9              1   \n",
            "\n",
            "                         product_id                         seller_id  \\\n",
            "0  4244733e06e7ecb4970a6e2683c13e61  48436dade18ac8b2bce089ec2a041202   \n",
            "1  e5f2d52b802189ee658865ca93d83a8f  dd7ddc04e1b6c2c614352b383efe2d36   \n",
            "2  c777355d18b72b67abbeef9df44fd0fd  5b51032eddd242adc84c38acab88f23d   \n",
            "3  7634da152a4610f1595efa32f14722fc  9d7a1d34a5052409006425275ba1c2b4   \n",
            "4  ac6c3623068f30de03045865e4e10089  df560393f3a51e74553ab94004ba5c87   \n",
            "\n",
            "   shipping_limit_date   price  freight_value  \n",
            "0  2017-09-19 09:45:35   58.90          13.29  \n",
            "1  2017-05-03 11:05:13  239.90          19.93  \n",
            "2  2018-01-18 14:48:30  199.00          17.87  \n",
            "3  2018-08-15 10:10:18   12.99          12.79  \n",
            "4  2017-02-13 13:57:51  199.90          18.14  \n",
            "\n",
            "--- Dataset Information ---\n",
            "<class 'pandas.core.frame.DataFrame'>\n",
            "RangeIndex: 112650 entries, 0 to 112649\n",
            "Data columns (total 7 columns):\n",
            " #   Column               Non-Null Count   Dtype  \n",
            "---  ------               --------------   -----  \n",
            " 0   order_id             112650 non-null  object \n",
            " 1   order_item_id        112650 non-null  int64  \n",
            " 2   product_id           112650 non-null  object \n",
            " 3   seller_id            112650 non-null  object \n",
            " 4   shipping_limit_date  112650 non-null  object \n",
            " 5   price                112650 non-null  float64\n",
            " 6   freight_value        112650 non-null  float64\n",
            "dtypes: float64(2), int64(1), object(4)\n",
            "memory usage: 6.0+ MB\n",
            "None\n",
            "\n",
            "--- Missing Values ---\n",
            "Series([], dtype: int64)\n",
            "\n",
            "--- Number of Duplicate Rows: 0\n",
            "Converted shipping_limit_date to datetime format.\n",
            "\n",
            "--- Statistical Summary ---\n",
            "       order_item_id            shipping_limit_date          price  \\\n",
            "count  112650.000000                         112650  112650.000000   \n",
            "mean        1.197834  2018-01-07 15:36:52.192685312     120.653739   \n",
            "min         1.000000            2016-09-19 00:15:34       0.850000   \n",
            "25%         1.000000     2017-09-20 20:57:27.500000      39.900000   \n",
            "50%         1.000000            2018-01-26 13:59:35      74.990000   \n",
            "75%         1.000000  2018-05-10 14:34:00.750000128     134.900000   \n",
            "max        21.000000            2020-04-09 22:35:08    6735.000000   \n",
            "std         0.705124                            NaN     183.633928   \n",
            "\n",
            "       freight_value  \n",
            "count  112650.000000  \n",
            "mean       19.990320  \n",
            "min         0.000000  \n",
            "25%        13.080000  \n",
            "50%        16.260000  \n",
            "75%        21.150000  \n",
            "max       409.680000  \n",
            "std        15.806405  \n",
            "\n",
            "--- Value Counts for Categorical Columns ---\n",
            "\n",
            "order_id value counts:\n",
            "order_id\n",
            "8272b63d03f5f79c56e9e4120aec44ef    21\n",
            "1b15974a0141d54e36626dca3fdc731a    20\n",
            "ab14fdcfbe524636d65ee38360e22ce8    20\n",
            "9ef13efd6949e4573a18964dd1bbe7f5    15\n",
            "428a2f660dc84138d969ccd69a0ab6d5    15\n",
            "9bdc4d4c71aa1de4606060929dee888c    14\n",
            "73c8ab38f07dc94389065f7eba4f297a    14\n",
            "37ee401157a3a0b28c9c6d0ed8c3b24b    13\n",
            "af822dacd6f5cff7376413c03a388bb7    12\n",
            "3a213fcdfe7d98be74ea0dc05a8b31ae    12\n",
            "Name: count, dtype: int64\n",
            "\n",
            "product_id value counts:\n",
            "product_id\n",
            "aca2eb7d00ea1a7b8ebd4e68314663af    527\n",
            "99a4788cb24856965c36a24e339b6058    488\n",
            "422879e10f46682990de24d770e7f83d    484\n",
            "389d119b48cf3043d311335e499d9c6b    392\n",
            "368c6c730842d78016ad823897a372db    388\n",
            "53759a2ecddad2bb87a079a1f1519f73    373\n",
            "d1c427060a0f73f6b889a5c7c61f2ac4    343\n",
            "53b36df67ebb7c41585e8d54d6772e08    323\n",
            "154e7e31ebfa092203795c972e5804a6    281\n",
            "3dd2a17168ec895c781a9191c1e95ad7    274\n",
            "Name: count, dtype: int64\n",
            "\n",
            "seller_id value counts:\n",
            "seller_id\n",
            "6560211a19b47992c3666cc44a7e94c0    2033\n",
            "4a3ca9315b744ce9f8e9374361493884    1987\n",
            "1f50f920176fa81dab994f9023523100    1931\n",
            "cc419e0650a3c5ba77189a1882b7556a    1775\n",
            "da8622b14eb17ae2831f4ac5b9dab84a    1551\n",
            "955fee9216a65b617aa5c0531780ce60    1499\n",
            "1025f0e2d44d7041d6cf58b6550e0bfa    1428\n",
            "7c67e1448b00f6e969d365cea6b010ab    1364\n",
            "ea8482cd71df3c1969d7b9473ff13abc    1203\n",
            "7a67c85e85bb2ce8582c35f2203ad736    1171\n",
            "Name: count, dtype: int64\n"
          ]
        }
      ],
      "source": [
        "# Dataset order_items_data\n",
        "order_items_data = assess_data('data/olist_order_items_dataset.csv', date_columns=['shipping_limit_date'])"
      ]
    },
    {
      "cell_type": "code",
      "execution_count": 26,
      "metadata": {},
      "outputs": [
        {
          "name": "stdout",
          "output_type": "stream",
          "text": [
            "Dataset loaded successfully from data/olist_products_dataset.csv\n",
            "\n",
            "--- First 5 Rows of Data ---\n",
            "                         product_id  product_category_name  \\\n",
            "0  1e9e8ef04dbcff4541ed26657ea517e5             perfumaria   \n",
            "1  3aa071139cb16b67ca9e5dea641aaa2f                  artes   \n",
            "2  96bd76ec8810374ed1b65e291975717f          esporte_lazer   \n",
            "3  cef67bcfe19066a932b7673e239eb23d                  bebes   \n",
            "4  9dc1a7de274444849c219cff195d0b71  utilidades_domesticas   \n",
            "\n",
            "   product_name_lenght  product_description_lenght  product_photos_qty  \\\n",
            "0                 40.0                       287.0                 1.0   \n",
            "1                 44.0                       276.0                 1.0   \n",
            "2                 46.0                       250.0                 1.0   \n",
            "3                 27.0                       261.0                 1.0   \n",
            "4                 37.0                       402.0                 4.0   \n",
            "\n",
            "   product_weight_g  product_length_cm  product_height_cm  product_width_cm  \n",
            "0             225.0               16.0               10.0              14.0  \n",
            "1            1000.0               30.0               18.0              20.0  \n",
            "2             154.0               18.0                9.0              15.0  \n",
            "3             371.0               26.0                4.0              26.0  \n",
            "4             625.0               20.0               17.0              13.0  \n",
            "\n",
            "--- Dataset Information ---\n",
            "<class 'pandas.core.frame.DataFrame'>\n",
            "RangeIndex: 32951 entries, 0 to 32950\n",
            "Data columns (total 9 columns):\n",
            " #   Column                      Non-Null Count  Dtype  \n",
            "---  ------                      --------------  -----  \n",
            " 0   product_id                  32951 non-null  object \n",
            " 1   product_category_name       32341 non-null  object \n",
            " 2   product_name_lenght         32341 non-null  float64\n",
            " 3   product_description_lenght  32341 non-null  float64\n",
            " 4   product_photos_qty          32341 non-null  float64\n",
            " 5   product_weight_g            32949 non-null  float64\n",
            " 6   product_length_cm           32949 non-null  float64\n",
            " 7   product_height_cm           32949 non-null  float64\n",
            " 8   product_width_cm            32949 non-null  float64\n",
            "dtypes: float64(7), object(2)\n",
            "memory usage: 2.3+ MB\n",
            "None\n",
            "\n",
            "--- Missing Values ---\n",
            "product_category_name         610\n",
            "product_name_lenght           610\n",
            "product_description_lenght    610\n",
            "product_photos_qty            610\n",
            "product_weight_g                2\n",
            "product_length_cm               2\n",
            "product_height_cm               2\n",
            "product_width_cm                2\n",
            "dtype: int64\n",
            "\n",
            "--- Number of Duplicate Rows: 0\n",
            "\n",
            "--- Statistical Summary ---\n",
            "       product_name_lenght  product_description_lenght  product_photos_qty  \\\n",
            "count         32341.000000                32341.000000        32341.000000   \n",
            "mean             48.476949                  771.495285            2.188986   \n",
            "std              10.245741                  635.115225            1.736766   \n",
            "min               5.000000                    4.000000            1.000000   \n",
            "25%              42.000000                  339.000000            1.000000   \n",
            "50%              51.000000                  595.000000            1.000000   \n",
            "75%              57.000000                  972.000000            3.000000   \n",
            "max              76.000000                 3992.000000           20.000000   \n",
            "\n",
            "       product_weight_g  product_length_cm  product_height_cm  \\\n",
            "count      32949.000000       32949.000000       32949.000000   \n",
            "mean        2276.472488          30.815078          16.937661   \n",
            "std         4282.038731          16.914458          13.637554   \n",
            "min            0.000000           7.000000           2.000000   \n",
            "25%          300.000000          18.000000           8.000000   \n",
            "50%          700.000000          25.000000          13.000000   \n",
            "75%         1900.000000          38.000000          21.000000   \n",
            "max        40425.000000         105.000000         105.000000   \n",
            "\n",
            "       product_width_cm  \n",
            "count      32949.000000  \n",
            "mean          23.196728  \n",
            "std           12.079047  \n",
            "min            6.000000  \n",
            "25%           15.000000  \n",
            "50%           20.000000  \n",
            "75%           30.000000  \n",
            "max          118.000000  \n",
            "\n",
            "--- Value Counts for Categorical Columns ---\n",
            "\n",
            "product_id value counts:\n",
            "product_id\n",
            "106392145fca363410d287a815be6de4    1\n",
            "1e9e8ef04dbcff4541ed26657ea517e5    1\n",
            "3aa071139cb16b67ca9e5dea641aaa2f    1\n",
            "96bd76ec8810374ed1b65e291975717f    1\n",
            "cef67bcfe19066a932b7673e239eb23d    1\n",
            "9dc1a7de274444849c219cff195d0b71    1\n",
            "41d3672d4792049fa1779bb35283ed13    1\n",
            "1060d9ab6b911bfce1439c25afcd790b    1\n",
            "6f79d50d852c044e3f7f0954d13aeacf    1\n",
            "0bf1dea484fbb8cdfa09e2767ce30574    1\n",
            "Name: count, dtype: int64\n",
            "\n",
            "product_category_name value counts:\n",
            "product_category_name\n",
            "cama_mesa_banho           3029\n",
            "esporte_lazer             2867\n",
            "moveis_decoracao          2657\n",
            "beleza_saude              2444\n",
            "utilidades_domesticas     2335\n",
            "automotivo                1900\n",
            "informatica_acessorios    1639\n",
            "brinquedos                1411\n",
            "relogios_presentes        1329\n",
            "telefonia                 1134\n",
            "Name: count, dtype: int64\n"
          ]
        }
      ],
      "source": [
        "# Dataset product_data\n",
        "products_data = assess_data('data/olist_products_dataset.csv')"
      ]
    },
    {
      "cell_type": "code",
      "execution_count": 27,
      "metadata": {},
      "outputs": [
        {
          "name": "stdout",
          "output_type": "stream",
          "text": [
            "Dataset loaded successfully from data/olist_customers_dataset.csv\n",
            "\n",
            "--- First 5 Rows of Data ---\n",
            "                        customer_id                customer_unique_id  \\\n",
            "0  06b8999e2fba1a1fbc88172c00ba8bc7  861eff4711a542e4b93843c6dd7febb0   \n",
            "1  18955e83d337fd6b2def6b18a428ac77  290c77bc529b7ac935b93aa66c333dc3   \n",
            "2  4e7b3e00288586ebd08712fdd0374a03  060e732b5b29e8181a18229c7b0b2b5e   \n",
            "3  b2b6027bc5c5109e529d4dc6358b12c3  259dac757896d24d7702b9acbbff3f3c   \n",
            "4  4f2d8ab171c80ec8364f7c12e35b23ad  345ecd01c38d18a9036ed96c73b8d066   \n",
            "\n",
            "   customer_zip_code_prefix          customer_city customer_state  \n",
            "0                     14409                 franca             SP  \n",
            "1                      9790  sao bernardo do campo             SP  \n",
            "2                      1151              sao paulo             SP  \n",
            "3                      8775        mogi das cruzes             SP  \n",
            "4                     13056               campinas             SP  \n",
            "\n",
            "--- Dataset Information ---\n",
            "<class 'pandas.core.frame.DataFrame'>\n",
            "RangeIndex: 99441 entries, 0 to 99440\n",
            "Data columns (total 5 columns):\n",
            " #   Column                    Non-Null Count  Dtype \n",
            "---  ------                    --------------  ----- \n",
            " 0   customer_id               99441 non-null  object\n",
            " 1   customer_unique_id        99441 non-null  object\n",
            " 2   customer_zip_code_prefix  99441 non-null  int64 \n",
            " 3   customer_city             99441 non-null  object\n",
            " 4   customer_state            99441 non-null  object\n",
            "dtypes: int64(1), object(4)\n",
            "memory usage: 3.8+ MB\n",
            "None\n",
            "\n",
            "--- Missing Values ---\n",
            "Series([], dtype: int64)\n",
            "\n",
            "--- Number of Duplicate Rows: 0\n",
            "\n",
            "--- Statistical Summary ---\n",
            "       customer_zip_code_prefix\n",
            "count              99441.000000\n",
            "mean               35137.474583\n",
            "std                29797.938996\n",
            "min                 1003.000000\n",
            "25%                11347.000000\n",
            "50%                24416.000000\n",
            "75%                58900.000000\n",
            "max                99990.000000\n",
            "\n",
            "--- Value Counts for Categorical Columns ---\n",
            "\n",
            "customer_id value counts:\n",
            "customer_id\n",
            "274fa6071e5e17fe303b9748641082c8    1\n",
            "e5ed7280cd1a3ac2ba29fd6650d8867c    1\n",
            "c6ece8a5137f3c9c3a3a12302a19a2ac    1\n",
            "821a7275a08f32975caceff2e08ea262    1\n",
            "5eef6cce1f34954c9e7004332388ccc7    1\n",
            "be631308cb609ff74d0e0fb54815e18c    1\n",
            "a1b5ca506b592bb72d4caadcbfe71385    1\n",
            "30c96385d694acb8aa2dc0df1770120b    1\n",
            "b7c889215de76857c7967c1011125d2d    1\n",
            "c156d63bdfce1d456bd43cf1c4dadfca    1\n",
            "Name: count, dtype: int64\n",
            "\n",
            "customer_unique_id value counts:\n",
            "customer_unique_id\n",
            "8d50f5eadf50201ccdcedfb9e2ac8455    17\n",
            "3e43e6105506432c953e165fb2acf44c     9\n",
            "6469f99c1f9dfae7733b25662e7f1782     7\n",
            "ca77025e7201e3b30c44b472ff346268     7\n",
            "1b6c7548a2a1f9037c1fd3ddfed95f33     7\n",
            "12f5d6e1cbf93dafd9dcc19095df0b3d     6\n",
            "dc813062e0fc23409cd255f7f53c7074     6\n",
            "47c1a3033b8b77b3ab6e109eb4d5fdf3     6\n",
            "de34b16117594161a6a89c50b289d35a     6\n",
            "63cfc61cee11cbe306bff5857d00bfe4     6\n",
            "Name: count, dtype: int64\n",
            "\n",
            "customer_city value counts:\n",
            "customer_city\n",
            "sao paulo                15540\n",
            "rio de janeiro            6882\n",
            "belo horizonte            2773\n",
            "brasilia                  2131\n",
            "curitiba                  1521\n",
            "campinas                  1444\n",
            "porto alegre              1379\n",
            "salvador                  1245\n",
            "guarulhos                 1189\n",
            "sao bernardo do campo      938\n",
            "Name: count, dtype: int64\n",
            "\n",
            "customer_state value counts:\n",
            "customer_state\n",
            "SP    41746\n",
            "RJ    12852\n",
            "MG    11635\n",
            "RS     5466\n",
            "PR     5045\n",
            "SC     3637\n",
            "BA     3380\n",
            "DF     2140\n",
            "ES     2033\n",
            "GO     2020\n",
            "Name: count, dtype: int64\n"
          ]
        }
      ],
      "source": [
        "# Dataset customer_data\n",
        "customer_data = assess_data('data/olist_customers_dataset.csv')"
      ]
    },
    {
      "cell_type": "code",
      "execution_count": 28,
      "metadata": {},
      "outputs": [
        {
          "name": "stdout",
          "output_type": "stream",
          "text": [
            "Dataset loaded successfully from data/olist_orders_dataset.csv\n",
            "\n",
            "--- First 5 Rows of Data ---\n",
            "                           order_id                       customer_id  \\\n",
            "0  e481f51cbdc54678b7cc49136f2d6af7  9ef432eb6251297304e76186b10a928d   \n",
            "1  53cdb2fc8bc7dce0b6741e2150273451  b0830fb4747a6c6d20dea0b8c802d7ef   \n",
            "2  47770eb9100c2d0c44946d9cf07ec65d  41ce2a54c0b03bf3443c3d931a367089   \n",
            "3  949d5b44dbf5de918fe9c16f97b45f8a  f88197465ea7920adcdbec7375364d82   \n",
            "4  ad21c59c0840e6cb83a9ceb5573f8159  8ab97904e6daea8866dbdbc4fb7aad2c   \n",
            "\n",
            "  order_status order_purchase_timestamp    order_approved_at  \\\n",
            "0    delivered      2017-10-02 10:56:33  2017-10-02 11:07:15   \n",
            "1    delivered      2018-07-24 20:41:37  2018-07-26 03:24:27   \n",
            "2    delivered      2018-08-08 08:38:49  2018-08-08 08:55:23   \n",
            "3    delivered      2017-11-18 19:28:06  2017-11-18 19:45:59   \n",
            "4    delivered      2018-02-13 21:18:39  2018-02-13 22:20:29   \n",
            "\n",
            "  order_delivered_carrier_date order_delivered_customer_date  \\\n",
            "0          2017-10-04 19:55:00           2017-10-10 21:25:13   \n",
            "1          2018-07-26 14:31:00           2018-08-07 15:27:45   \n",
            "2          2018-08-08 13:50:00           2018-08-17 18:06:29   \n",
            "3          2017-11-22 13:39:59           2017-12-02 00:28:42   \n",
            "4          2018-02-14 19:46:34           2018-02-16 18:17:02   \n",
            "\n",
            "  order_estimated_delivery_date  \n",
            "0           2017-10-18 00:00:00  \n",
            "1           2018-08-13 00:00:00  \n",
            "2           2018-09-04 00:00:00  \n",
            "3           2017-12-15 00:00:00  \n",
            "4           2018-02-26 00:00:00  \n",
            "\n",
            "--- Dataset Information ---\n",
            "<class 'pandas.core.frame.DataFrame'>\n",
            "RangeIndex: 99441 entries, 0 to 99440\n",
            "Data columns (total 8 columns):\n",
            " #   Column                         Non-Null Count  Dtype \n",
            "---  ------                         --------------  ----- \n",
            " 0   order_id                       99441 non-null  object\n",
            " 1   customer_id                    99441 non-null  object\n",
            " 2   order_status                   99441 non-null  object\n",
            " 3   order_purchase_timestamp       99441 non-null  object\n",
            " 4   order_approved_at              99281 non-null  object\n",
            " 5   order_delivered_carrier_date   97658 non-null  object\n",
            " 6   order_delivered_customer_date  96476 non-null  object\n",
            " 7   order_estimated_delivery_date  99441 non-null  object\n",
            "dtypes: object(8)\n",
            "memory usage: 6.1+ MB\n",
            "None\n",
            "\n",
            "--- Missing Values ---\n",
            "order_approved_at                 160\n",
            "order_delivered_carrier_date     1783\n",
            "order_delivered_customer_date    2965\n",
            "dtype: int64\n",
            "\n",
            "--- Number of Duplicate Rows: 0\n",
            "\n",
            "--- Statistical Summary ---\n",
            "                                order_id                       customer_id  \\\n",
            "count                              99441                             99441   \n",
            "unique                             99441                             99441   \n",
            "top     66dea50a8b16d9b4dee7af250b4be1a5  edb027a75a1449115f6b43211ae02a24   \n",
            "freq                                   1                                 1   \n",
            "\n",
            "       order_status order_purchase_timestamp    order_approved_at  \\\n",
            "count         99441                    99441                99281   \n",
            "unique            8                    98875                90733   \n",
            "top       delivered      2018-08-02 12:05:26  2018-02-27 04:31:10   \n",
            "freq          96478                        3                    9   \n",
            "\n",
            "       order_delivered_carrier_date order_delivered_customer_date  \\\n",
            "count                         97658                         96476   \n",
            "unique                        81018                         95664   \n",
            "top             2018-05-09 15:48:00           2018-05-08 19:36:48   \n",
            "freq                             47                             3   \n",
            "\n",
            "       order_estimated_delivery_date  \n",
            "count                          99441  \n",
            "unique                           459  \n",
            "top              2017-12-20 00:00:00  \n",
            "freq                             522  \n",
            "\n",
            "--- Value Counts for Categorical Columns ---\n",
            "\n",
            "order_id value counts:\n",
            "order_id\n",
            "66dea50a8b16d9b4dee7af250b4be1a5    1\n",
            "6ec4642f9993cc34f826cfb9068e5a2f    1\n",
            "38e9133ce29f6bbe35aed9c3863dce01    1\n",
            "dfc6eb45a2753ed9e6c6ef4987b44503    1\n",
            "6f46d42016226f77893ed3978d6903d0    1\n",
            "f9e3402be5a5ea63344347582ca9f45f    1\n",
            "1b4a0e6b19d0034b531655b41ea89623    1\n",
            "788541a19c0791de0504c5a9cb7e7bd5    1\n",
            "e6cc57f923c4dab2222b8c9aa8742eea    1\n",
            "c627fe35fce1a754bc5b812d0b8ff379    1\n",
            "Name: count, dtype: int64\n",
            "\n",
            "customer_id value counts:\n",
            "customer_id\n",
            "edb027a75a1449115f6b43211ae02a24    1\n",
            "f00bb12620b7b232233cace1b229db18    1\n",
            "ad312389a098ceff46ce92c4595c06d0    1\n",
            "a046c690e0564ffde0ce611b5eee2c30    1\n",
            "3803547f820b1e10b7ad9c7985f06753    1\n",
            "6f2cf56878f7f82151b0ad02590192c0    1\n",
            "ce5efd1b1d8a2fa290a871edd5c26cd6    1\n",
            "a537aaf902d2f436eb7f44817154bb68    1\n",
            "2f4a42f9bb4b9a8cd402fa549df5c7fd    1\n",
            "42b0671b440d1f2527bddd8b723e0a0c    1\n",
            "Name: count, dtype: int64\n",
            "\n",
            "order_status value counts:\n",
            "order_status\n",
            "delivered      96478\n",
            "shipped         1107\n",
            "canceled         625\n",
            "unavailable      609\n",
            "invoiced         314\n",
            "processing       301\n",
            "created            5\n",
            "approved           2\n",
            "Name: count, dtype: int64\n",
            "\n",
            "order_purchase_timestamp value counts:\n",
            "order_purchase_timestamp\n",
            "2018-08-02 12:05:26    3\n",
            "2018-07-28 13:11:22    3\n",
            "2018-02-19 15:37:47    3\n",
            "2018-08-02 12:06:09    3\n",
            "2018-03-31 15:08:21    3\n",
            "2017-11-20 11:46:30    3\n",
            "2018-04-11 10:48:14    3\n",
            "2017-11-20 10:59:08    3\n",
            "2018-08-02 12:06:07    3\n",
            "2018-06-01 13:39:44    3\n",
            "Name: count, dtype: int64\n",
            "\n",
            "order_approved_at value counts:\n",
            "order_approved_at\n",
            "2018-02-27 04:31:10    9\n",
            "2017-12-05 10:30:42    7\n",
            "2018-02-06 05:31:52    7\n",
            "2017-11-07 07:30:38    7\n",
            "2017-11-07 07:30:29    7\n",
            "2018-07-05 16:33:01    7\n",
            "2018-01-10 10:32:03    7\n",
            "2018-02-27 04:31:01    7\n",
            "2018-07-27 04:05:17    6\n",
            "2018-02-27 04:31:04    6\n",
            "Name: count, dtype: int64\n",
            "\n",
            "order_delivered_carrier_date value counts:\n",
            "order_delivered_carrier_date\n",
            "2018-05-09 15:48:00    47\n",
            "2018-05-10 18:29:00    32\n",
            "2018-05-07 12:31:00    21\n",
            "2018-05-02 15:15:00    16\n",
            "2018-07-24 16:07:00    16\n",
            "2018-08-08 15:01:00    15\n",
            "2018-05-16 13:44:00    15\n",
            "2018-08-03 15:10:00    15\n",
            "2018-07-17 14:16:00    15\n",
            "2018-05-17 15:06:00    14\n",
            "Name: count, dtype: int64\n",
            "\n",
            "order_delivered_customer_date value counts:\n",
            "order_delivered_customer_date\n",
            "2018-05-08 19:36:48    3\n",
            "2018-05-14 20:02:44    3\n",
            "2018-05-08 23:38:46    3\n",
            "2016-10-27 17:32:07    3\n",
            "2018-07-24 21:36:42    3\n",
            "2017-06-19 18:47:51    3\n",
            "2017-12-02 00:26:45    3\n",
            "2018-02-14 21:09:19    3\n",
            "2017-05-13 09:37:37    2\n",
            "2018-01-08 22:04:15    2\n",
            "Name: count, dtype: int64\n",
            "\n",
            "order_estimated_delivery_date value counts:\n",
            "order_estimated_delivery_date\n",
            "2017-12-20 00:00:00    522\n",
            "2018-03-12 00:00:00    516\n",
            "2018-05-29 00:00:00    513\n",
            "2018-03-13 00:00:00    513\n",
            "2018-02-14 00:00:00    507\n",
            "2017-12-18 00:00:00    493\n",
            "2018-03-06 00:00:00    492\n",
            "2018-05-28 00:00:00    492\n",
            "2018-02-06 00:00:00    491\n",
            "2018-04-12 00:00:00    490\n",
            "Name: count, dtype: int64\n"
          ]
        }
      ],
      "source": [
        "# Dataset orders_data\n",
        "orders_data = assess_data('data/olist_orders_dataset.csv')"
      ]
    },
    {
      "cell_type": "code",
      "execution_count": 29,
      "metadata": {},
      "outputs": [
        {
          "name": "stdout",
          "output_type": "stream",
          "text": [
            "Dataset loaded successfully from data/product_category_name_translation.csv\n",
            "\n",
            "--- First 5 Rows of Data ---\n",
            "    product_category_name product_category_name_english\n",
            "0            beleza_saude                 health_beauty\n",
            "1  informatica_acessorios         computers_accessories\n",
            "2              automotivo                          auto\n",
            "3         cama_mesa_banho                bed_bath_table\n",
            "4        moveis_decoracao               furniture_decor\n",
            "\n",
            "--- Dataset Information ---\n",
            "<class 'pandas.core.frame.DataFrame'>\n",
            "RangeIndex: 71 entries, 0 to 70\n",
            "Data columns (total 2 columns):\n",
            " #   Column                         Non-Null Count  Dtype \n",
            "---  ------                         --------------  ----- \n",
            " 0   product_category_name          71 non-null     object\n",
            " 1   product_category_name_english  71 non-null     object\n",
            "dtypes: object(2)\n",
            "memory usage: 1.2+ KB\n",
            "None\n",
            "\n",
            "--- Missing Values ---\n",
            "Series([], dtype: int64)\n",
            "\n",
            "--- Number of Duplicate Rows: 0\n",
            "\n",
            "--- Statistical Summary ---\n",
            "       product_category_name product_category_name_english\n",
            "count                     71                            71\n",
            "unique                    71                            71\n",
            "top             beleza_saude                 health_beauty\n",
            "freq                       1                             1\n",
            "\n",
            "--- Value Counts for Categorical Columns ---\n",
            "\n",
            "product_category_name value counts:\n",
            "product_category_name\n",
            "beleza_saude              1\n",
            "informatica_acessorios    1\n",
            "automotivo                1\n",
            "cama_mesa_banho           1\n",
            "moveis_decoracao          1\n",
            "esporte_lazer             1\n",
            "perfumaria                1\n",
            "utilidades_domesticas     1\n",
            "telefonia                 1\n",
            "relogios_presentes        1\n",
            "Name: count, dtype: int64\n",
            "\n",
            "product_category_name_english value counts:\n",
            "product_category_name_english\n",
            "health_beauty            1\n",
            "computers_accessories    1\n",
            "auto                     1\n",
            "bed_bath_table           1\n",
            "furniture_decor          1\n",
            "sports_leisure           1\n",
            "perfumery                1\n",
            "housewares               1\n",
            "telephony                1\n",
            "watches_gifts            1\n",
            "Name: count, dtype: int64\n"
          ]
        }
      ],
      "source": [
        "# Dataset product_category_data\n",
        "product_category_data = assess_data('data/product_category_name_translation.csv')"
      ]
    },
    {
      "cell_type": "markdown",
      "metadata": {
        "id": "7dtxhAPrkhPL"
      },
      "source": [
        "**Insight:**\n",
        "    <p><strong><code>order_items_data</code></strong>:</p>\n",
        "    <ul>\n",
        "      <li>Missing values: <strong>0</strong> (Tidak ada nilai yang hilang).</li>\n",
        "      <li>Duplicate data: <strong>0</strong> (Tidak ada data yang terduplikasi).</li>\n",
        "    </ul>\n",
        "    <p><strong><code>products_data</code></strong>:</p>\n",
        "    <ul>\n",
        "      <li>Missing values:<ul>\n",
        "          <li><code>product_category_name</code>: <strong>610</strong> missing values.</li>\n",
        "          <li><code>product_name_lenght</code>: <strong>610</strong> missing values.</li>\n",
        "          <li><code>product_description_lenght</code>: <strong>610</strong> missing values.</li>\n",
        "          <li><code>product_photos_qty</code>: <strong>610</strong> missing values.</li>\n",
        "          <li><code>product_weight_g</code>: <strong>2</strong> missing values.</li>\n",
        "          <li><code>product_length_cm</code>: <strong>2</strong> missing values.</li>\n",
        "          <li><code>product_height_cm</code>: <strong>2</strong> missing values.</li>\n",
        "          <li><code>product_width_cm</code>: <strong>2</strong> missing values.</li>\n",
        "        </ul>\n",
        "      </li>\n",
        "      <li>Duplicate data: <strong>0</strong> (Tidak ada data yang terduplikasi).</li>\n",
        "    </ul>\n",
        "    <p><strong><code>customer_data</code></strong>:</p>\n",
        "    <ul>\n",
        "      <li>Missing values: <strong>0</strong> (Tidak ada nilai yang hilang).</li>\n",
        "      <li>Duplicate data: <strong>0</strong> (Tidak ada data yang terduplikasi).</li>\n",
        "    </ul>\n",
        "    <p><strong><code>orders_data</code></strong>:</p>\n",
        "    <ul>\n",
        "      <li>Missing values:<ul>\n",
        "          <li><code>order_approved_at</code>: <strong>160</strong> missing values.</li>\n",
        "          <li><code>order_delivered_carrier_date</code>: <strong>1783</strong> missing values.</li>\n",
        "          <li><code>order_delivered_customer_date</code>: <strong>2965</strong> missing values.</li>\n",
        "        </ul>\n",
        "      </li>\n",
        "      <li>Duplicate data: <strong>0</strong> (Tidak ada data yang terduplikasi).</li>\n",
        "    </ul>\n",
        "    <p><strong><code>product_category_data</code></strong>:</p>\n",
        "    <ul>\n",
        "      <li>Missing values: <strong>0</strong> (Tidak ada nilai yang hilang).</li>\n",
        "      <li>Duplicate data: <strong>0</strong> (Tidak ada data yang terduplikasi).</li>\n",
        "    </ul>\n",
        "    <h3><strong>Kesimpulan</strong></h3>\n",
        "    <p>\n",
        "    Melihat jumlah missing values yang relatif kecil dibandingkan dengan ukuran dataset secara keseluruhan, sehingga tidak akan terlalu berdampak signifikan pada analisis. Maka proses cleaning data nanti akan dilakukan dengan cara menghapus data yang memiliki missing value tanpa mengganti nilainya.\n",
        "    </p>"
      ]
    },
    {
      "cell_type": "markdown",
      "metadata": {
        "id": "EhN5R4hr8DC1"
      },
      "source": [
        "### Cleaning Data"
      ]
    },
    {
      "cell_type": "code",
      "execution_count": 32,
      "metadata": {
        "id": "jVnYpprE9Evz"
      },
      "outputs": [],
      "source": [
        "# Dataset products_data\n",
        "products_data_cleaned = products_data.dropna()\n",
        "\n",
        "# Dataset orders_data\n",
        "orders_data_cleaned = orders_data.dropna()"
      ]
    },
    {
      "cell_type": "markdown",
      "metadata": {
        "id": "Q_5ejIqckiSP"
      },
      "source": [
        "**Insight:**\n",
        "- xxx\n",
        "- xxx"
      ]
    },
    {
      "cell_type": "markdown",
      "metadata": {
        "id": "gp-Y6wU38DC1"
      },
      "source": [
        "## Exploratory Data Analysis (EDA)"
      ]
    },
    {
      "cell_type": "markdown",
      "metadata": {
        "id": "MW7WF2kr8DC1"
      },
      "source": [
        "### Explore ..."
      ]
    },
    {
      "cell_type": "code",
      "execution_count": null,
      "metadata": {
        "id": "e9CQCZjk8DC2"
      },
      "outputs": [],
      "source": []
    },
    {
      "cell_type": "markdown",
      "metadata": {
        "id": "th_Lzl2Fkj9O"
      },
      "source": [
        "**Insight:**\n",
        "- xxx\n",
        "- xxx"
      ]
    },
    {
      "cell_type": "markdown",
      "metadata": {
        "id": "zsyZjqak8DC2"
      },
      "source": [
        "## Visualization & Explanatory Analysis"
      ]
    },
    {
      "cell_type": "markdown",
      "metadata": {
        "id": "HZxOiQ6n8DC2"
      },
      "source": [
        "### Pertanyaan 1:"
      ]
    },
    {
      "cell_type": "code",
      "execution_count": null,
      "metadata": {
        "id": "1swJUdAD8DC2"
      },
      "outputs": [],
      "source": []
    },
    {
      "cell_type": "markdown",
      "metadata": {
        "id": "DgHI7CiU8DC2"
      },
      "source": [
        "### Pertanyaan 2:"
      ]
    },
    {
      "cell_type": "code",
      "execution_count": null,
      "metadata": {
        "id": "Go0lCsvO8DC2"
      },
      "outputs": [],
      "source": []
    },
    {
      "cell_type": "markdown",
      "metadata": {
        "id": "_0-36BDLklRg"
      },
      "source": [
        "**Insight:**\n",
        "- xxx\n",
        "- xxx"
      ]
    },
    {
      "cell_type": "markdown",
      "metadata": {
        "id": "9y4VUsmcYNZ5"
      },
      "source": [
        "## Analisis Lanjutan (Opsional)"
      ]
    },
    {
      "cell_type": "code",
      "execution_count": null,
      "metadata": {
        "id": "iWhnzsJGYUCO"
      },
      "outputs": [],
      "source": []
    },
    {
      "cell_type": "markdown",
      "metadata": {
        "id": "_WeHlCeX8DC2"
      },
      "source": [
        "## Conclusion"
      ]
    },
    {
      "cell_type": "markdown",
      "metadata": {
        "id": "ZTcyR48Y8DC2"
      },
      "source": [
        "- Conclution pertanyaan 1\n",
        "- Conclution pertanyaan 2"
      ]
    }
  ],
  "metadata": {
    "colab": {
      "provenance": []
    },
    "kernelspec": {
      "display_name": "Python 3",
      "language": "python",
      "name": "python3"
    },
    "language_info": {
      "codemirror_mode": {
        "name": "ipython",
        "version": 3
      },
      "file_extension": ".py",
      "mimetype": "text/x-python",
      "name": "python",
      "nbconvert_exporter": "python",
      "pygments_lexer": "ipython3",
      "version": "3.11.1"
    },
    "orig_nbformat": 4,
    "vscode": {
      "interpreter": {
        "hash": "972b3bf27e332e87b5379f2791f6ef9dfc79c71018c370b0d7423235e20fe4d7"
      }
    }
  },
  "nbformat": 4,
  "nbformat_minor": 0
}
